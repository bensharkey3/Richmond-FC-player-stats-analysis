{
 "cells": [
  {
   "cell_type": "markdown",
   "metadata": {},
   "source": [
    "# AFL Tables - Data Analysis with Python"
   ]
  },
  {
   "cell_type": "markdown",
   "metadata": {},
   "source": [
    "from http://afltables.com/afl/afl_index.html"
   ]
  },
  {
   "cell_type": "markdown",
   "metadata": {},
   "source": [
    "## Step 1: Import data"
   ]
  },
  {
   "cell_type": "code",
   "execution_count": 37,
   "metadata": {
    "collapsed": true
   },
   "outputs": [],
   "source": [
    "# imports\n",
    "\n",
    "import pandas as pd\n",
    "import numpy as np\n",
    "import re\n",
    "import matplotlib.pyplot as plt\n",
    "import seaborn as sns\n",
    "%matplotlib inline"
   ]
  },
  {
   "cell_type": "code",
   "execution_count": 38,
   "metadata": {
    "collapsed": false
   },
   "outputs": [],
   "source": [
    "# read in data file\n",
    "\n",
    "df=pd.read_table('afltables_richmond',)"
   ]
  },
  {
   "cell_type": "code",
   "execution_count": 39,
   "metadata": {
    "collapsed": false
   },
   "outputs": [
    {
     "data": {
      "text/html": [
       "<div>\n",
       "<table border=\"1\" class=\"dataframe\">\n",
       "  <thead>\n",
       "    <tr style=\"text-align: right;\">\n",
       "      <th></th>\n",
       "      <th>Cap</th>\n",
       "      <th>#</th>\n",
       "      <th>Player</th>\n",
       "      <th>DOB</th>\n",
       "      <th>HT</th>\n",
       "      <th>WT</th>\n",
       "      <th>Games (W-D-L)</th>\n",
       "      <th>Goals</th>\n",
       "      <th>Seasons</th>\n",
       "      <th>Debut</th>\n",
       "      <th>Last</th>\n",
       "    </tr>\n",
       "  </thead>\n",
       "  <tbody>\n",
       "    <tr>\n",
       "      <th>0</th>\n",
       "      <td>677</td>\n",
       "      <td>29</td>\n",
       "      <td>Bartlett, Kevin</td>\n",
       "      <td>1947-03-06</td>\n",
       "      <td>177cm</td>\n",
       "      <td>71kg</td>\n",
       "      <td>403 (260-4-139)</td>\n",
       "      <td>778</td>\n",
       "      <td>1965-1983</td>\n",
       "      <td>18y 56d</td>\n",
       "      <td>36y 174d</td>\n",
       "    </tr>\n",
       "    <tr>\n",
       "      <th>1</th>\n",
       "      <td>325</td>\n",
       "      <td>17</td>\n",
       "      <td>Dyer, Jack</td>\n",
       "      <td>1913-11-15</td>\n",
       "      <td>185cm</td>\n",
       "      <td>89kg</td>\n",
       "      <td>312 (206-4-102)</td>\n",
       "      <td>443</td>\n",
       "      <td>1931-1949</td>\n",
       "      <td>17y 175d</td>\n",
       "      <td>35y 285d</td>\n",
       "    </tr>\n",
       "    <tr>\n",
       "      <th>2</th>\n",
       "      <td>692</td>\n",
       "      <td>30</td>\n",
       "      <td>Bourke, Francis</td>\n",
       "      <td>1947-04-02</td>\n",
       "      <td>185cm</td>\n",
       "      <td>84kg</td>\n",
       "      <td>300 (202-3-95)</td>\n",
       "      <td>71</td>\n",
       "      <td>1967-1981</td>\n",
       "      <td>20y 41d</td>\n",
       "      <td>34y 86d</td>\n",
       "    </tr>\n",
       "  </tbody>\n",
       "</table>\n",
       "</div>"
      ],
      "text/plain": [
       "   Cap   #           Player         DOB     HT    WT    Games (W-D-L)    \\\n",
       "0    677  29  Bartlett, Kevin  1947-03-06  177cm  71kg  403 (260-4-139)   \n",
       "1    325  17       Dyer, Jack  1913-11-15  185cm  89kg  312 (206-4-102)   \n",
       "2    692  30  Bourke, Francis  1947-04-02  185cm  84kg   300 (202-3-95)   \n",
       "\n",
       "  Goals    Seasons     Debut      Last    \n",
       "0     778  1965-1983   18y 56d  36y 174d  \n",
       "1     443  1931-1949  17y 175d  35y 285d  \n",
       "2      71  1967-1981   20y 41d   34y 86d  "
      ]
     },
     "execution_count": 39,
     "metadata": {},
     "output_type": "execute_result"
    }
   ],
   "source": [
    "# view data\n",
    "\n",
    "df.head(3)"
   ]
  },
  {
   "cell_type": "markdown",
   "metadata": {},
   "source": [
    "## Step 2: Data cleaning, reformatting, adding columns"
   ]
  },
  {
   "cell_type": "code",
   "execution_count": 40,
   "metadata": {
    "collapsed": true
   },
   "outputs": [],
   "source": [
    "# change column names and clean formatting\n",
    "\n",
    "df.columns=['Cap', 'Jersey No.', 'Player', 'DOB', 'Height(cm)', 'Weight(kg)', 'Games (W-D-L)','Goals', 'Seasons', 'Debut', 'Last']"
   ]
  },
  {
   "cell_type": "code",
   "execution_count": 41,
   "metadata": {
    "collapsed": false
   },
   "outputs": [],
   "source": [
    "# set the index as Cap\n",
    "\n",
    "df=df.set_index('Cap')"
   ]
  },
  {
   "cell_type": "code",
   "execution_count": 42,
   "metadata": {
    "collapsed": false
   },
   "outputs": [],
   "source": [
    "# remove cm from heights and kg from weights\n",
    "\n",
    "df['Height(cm)']=df['Height(cm)'].apply(lambda x:x.split('c')[0])\n",
    "df['Weight(kg)']=df['Weight(kg)'].apply(lambda x:x.split('k')[0])"
   ]
  },
  {
   "cell_type": "code",
   "execution_count": 43,
   "metadata": {
    "collapsed": false
   },
   "outputs": [],
   "source": [
    "# change height, weight, goals, jersey columns from strings to integers\n",
    "\n",
    "df['Height(cm)']=pd.to_numeric(df['Height(cm)'],errors='coerce')\n",
    "df['Weight(kg)']=pd.to_numeric(df['Weight(kg)'],errors='coerce')\n",
    "df['Goals']=pd.to_numeric(df['Goals'],errors='coerce')\n",
    "df['Jersey No.']=pd.to_numeric(df['Jersey No.'],errors='coerce')"
   ]
  },
  {
   "cell_type": "code",
   "execution_count": 44,
   "metadata": {
    "collapsed": false
   },
   "outputs": [
    {
     "data": {
      "text/plain": [
       "pandas.tslib.Timestamp"
      ]
     },
     "execution_count": 44,
     "metadata": {},
     "output_type": "execute_result"
    }
   ],
   "source": [
    "# convert DOB to timeStamp, and check output\n",
    "\n",
    "df['DOB']=pd.to_datetime(df['DOB'])\n",
    "type(df['DOB'].iloc[0])"
   ]
  },
  {
   "cell_type": "code",
   "execution_count": 45,
   "metadata": {
    "collapsed": false
   },
   "outputs": [],
   "source": [
    "# split Games (W-D-L) into separate columns\n",
    "# not finished, need to remove brackets and make won and lost numeric\n",
    "\n",
    "df['Games(total)']=pd.to_numeric(df['Games (W-D-L)'].apply(lambda x:re.split(' |-',x)[0]))\n",
    "df['Games(won)']=df['Games (W-D-L)'].apply(lambda x:re.split(' |-',x)[1])\n",
    "df['Games(drawn)']=pd.to_numeric(df['Games (W-D-L)'].apply(lambda x:re.split(' |-',x)[2]))\n",
    "df['Games(lost)']=df['Games (W-D-L)'].apply(lambda x:re.split(' |-',x)[3])"
   ]
  },
  {
   "cell_type": "code",
   "execution_count": 46,
   "metadata": {
    "collapsed": false
   },
   "outputs": [],
   "source": [
    "# create columns first season and last season\n",
    "\n",
    "df['First Season']=df['Seasons'].apply(lambda x:x.split('-')[0])\n",
    "df['Last Season']=df['Seasons'].apply(lambda x:x.split('-')[-1]) \n",
    "\n",
    "df['First Season']=pd.to_numeric(df['First Season'],errors='coerce')\n",
    "df['Last Season']=pd.to_numeric(df['Last Season'],errors='coerce')"
   ]
  },
  {
   "cell_type": "code",
   "execution_count": 47,
   "metadata": {
    "collapsed": true
   },
   "outputs": [],
   "source": [
    "# add DOB year column\n",
    "\n",
    "df['DOByear']=df['DOB'].apply(lambda x: x.year)"
   ]
  },
  {
   "cell_type": "code",
   "execution_count": 48,
   "metadata": {
    "collapsed": true
   },
   "outputs": [],
   "source": [
    "# create column number of seasons\n",
    "\n",
    "df['No. of Seasons']=df['Last Season']-df['First Season']+1"
   ]
  },
  {
   "cell_type": "code",
   "execution_count": 49,
   "metadata": {
    "collapsed": true
   },
   "outputs": [],
   "source": [
    "# create column ave games per season\n",
    "\n",
    "df['Ave Games/Season']=df['Games(total)']/df['No. of Seasons']"
   ]
  },
  {
   "cell_type": "code",
   "execution_count": 50,
   "metadata": {
    "collapsed": false
   },
   "outputs": [],
   "source": [
    "# drop columns\n",
    "\n",
    "df.drop('Games (W-D-L)',axis=1,inplace=True)\n",
    "df.drop('Seasons',axis=1,inplace=True)"
   ]
  },
  {
   "cell_type": "markdown",
   "metadata": {},
   "source": [
    "**Output**"
   ]
  },
  {
   "cell_type": "code",
   "execution_count": 51,
   "metadata": {
    "collapsed": false
   },
   "outputs": [
    {
     "name": "stdout",
     "output_type": "stream",
     "text": [
      "<class 'pandas.core.frame.DataFrame'>\n",
      "Int64Index: 1149 entries, 677 to 1145\n",
      "Data columns (total 17 columns):\n",
      "Jersey No.          1073 non-null float64\n",
      "Player              1149 non-null object\n",
      "DOB                 1149 non-null datetime64[ns]\n",
      "Height(cm)          1115 non-null float64\n",
      "Weight(kg)          1043 non-null float64\n",
      "Goals               833 non-null float64\n",
      "Debut               1149 non-null object\n",
      "Last                1149 non-null object\n",
      "Games(total)        1149 non-null int64\n",
      "Games(won)          1149 non-null object\n",
      "Games(drawn)        1149 non-null int64\n",
      "Games(lost)         1149 non-null object\n",
      "First Season        1099 non-null float64\n",
      "Last Season         1091 non-null float64\n",
      "DOByear             1149 non-null int64\n",
      "No. of Seasons      1068 non-null float64\n",
      "Ave Games/Season    1068 non-null float64\n",
      "dtypes: datetime64[ns](1), float64(8), int64(3), object(5)\n",
      "memory usage: 161.6+ KB\n"
     ]
    }
   ],
   "source": [
    "df.info()"
   ]
  },
  {
   "cell_type": "code",
   "execution_count": 52,
   "metadata": {
    "collapsed": false
   },
   "outputs": [
    {
     "data": {
      "text/html": [
       "<div>\n",
       "<table border=\"1\" class=\"dataframe\">\n",
       "  <thead>\n",
       "    <tr style=\"text-align: right;\">\n",
       "      <th></th>\n",
       "      <th>Jersey No.</th>\n",
       "      <th>Player</th>\n",
       "      <th>DOB</th>\n",
       "      <th>Height(cm)</th>\n",
       "      <th>Weight(kg)</th>\n",
       "      <th>Goals</th>\n",
       "      <th>Debut</th>\n",
       "      <th>Last</th>\n",
       "      <th>Games(total)</th>\n",
       "      <th>Games(won)</th>\n",
       "      <th>Games(drawn)</th>\n",
       "      <th>Games(lost)</th>\n",
       "      <th>First Season</th>\n",
       "      <th>Last Season</th>\n",
       "      <th>DOByear</th>\n",
       "      <th>No. of Seasons</th>\n",
       "      <th>Ave Games/Season</th>\n",
       "    </tr>\n",
       "    <tr>\n",
       "      <th>Cap</th>\n",
       "      <th></th>\n",
       "      <th></th>\n",
       "      <th></th>\n",
       "      <th></th>\n",
       "      <th></th>\n",
       "      <th></th>\n",
       "      <th></th>\n",
       "      <th></th>\n",
       "      <th></th>\n",
       "      <th></th>\n",
       "      <th></th>\n",
       "      <th></th>\n",
       "      <th></th>\n",
       "      <th></th>\n",
       "      <th></th>\n",
       "      <th></th>\n",
       "      <th></th>\n",
       "    </tr>\n",
       "  </thead>\n",
       "  <tbody>\n",
       "    <tr>\n",
       "      <th>677</th>\n",
       "      <td>29.0</td>\n",
       "      <td>Bartlett, Kevin</td>\n",
       "      <td>1947-03-06</td>\n",
       "      <td>177.0</td>\n",
       "      <td>71.0</td>\n",
       "      <td>778.0</td>\n",
       "      <td>18y 56d</td>\n",
       "      <td>36y 174d</td>\n",
       "      <td>403</td>\n",
       "      <td>(260</td>\n",
       "      <td>4</td>\n",
       "      <td>139)</td>\n",
       "      <td>1965.0</td>\n",
       "      <td>1983.0</td>\n",
       "      <td>1947</td>\n",
       "      <td>19.0</td>\n",
       "      <td>21.210526</td>\n",
       "    </tr>\n",
       "    <tr>\n",
       "      <th>325</th>\n",
       "      <td>17.0</td>\n",
       "      <td>Dyer, Jack</td>\n",
       "      <td>1913-11-15</td>\n",
       "      <td>185.0</td>\n",
       "      <td>89.0</td>\n",
       "      <td>443.0</td>\n",
       "      <td>17y 175d</td>\n",
       "      <td>35y 285d</td>\n",
       "      <td>312</td>\n",
       "      <td>(206</td>\n",
       "      <td>4</td>\n",
       "      <td>102)</td>\n",
       "      <td>1931.0</td>\n",
       "      <td>1949.0</td>\n",
       "      <td>1913</td>\n",
       "      <td>19.0</td>\n",
       "      <td>16.421053</td>\n",
       "    </tr>\n",
       "    <tr>\n",
       "      <th>692</th>\n",
       "      <td>30.0</td>\n",
       "      <td>Bourke, Francis</td>\n",
       "      <td>1947-04-02</td>\n",
       "      <td>185.0</td>\n",
       "      <td>84.0</td>\n",
       "      <td>71.0</td>\n",
       "      <td>20y 41d</td>\n",
       "      <td>34y 86d</td>\n",
       "      <td>300</td>\n",
       "      <td>(202</td>\n",
       "      <td>3</td>\n",
       "      <td>95)</td>\n",
       "      <td>1967.0</td>\n",
       "      <td>1981.0</td>\n",
       "      <td>1947</td>\n",
       "      <td>15.0</td>\n",
       "      <td>20.000000</td>\n",
       "    </tr>\n",
       "  </tbody>\n",
       "</table>\n",
       "</div>"
      ],
      "text/plain": [
       "     Jersey No.           Player        DOB  Height(cm)  Weight(kg)  Goals  \\\n",
       "Cap                                                                          \n",
       "677        29.0  Bartlett, Kevin 1947-03-06       177.0        71.0  778.0   \n",
       "325        17.0       Dyer, Jack 1913-11-15       185.0        89.0  443.0   \n",
       "692        30.0  Bourke, Francis 1947-04-02       185.0        84.0   71.0   \n",
       "\n",
       "        Debut      Last  Games(total) Games(won)  Games(drawn) Games(lost)  \\\n",
       "Cap                                                                          \n",
       "677   18y 56d  36y 174d           403       (260             4        139)   \n",
       "325  17y 175d  35y 285d           312       (206             4        102)   \n",
       "692   20y 41d   34y 86d           300       (202             3         95)   \n",
       "\n",
       "     First Season  Last Season  DOByear  No. of Seasons  Ave Games/Season  \n",
       "Cap                                                                        \n",
       "677        1965.0       1983.0     1947            19.0         21.210526  \n",
       "325        1931.0       1949.0     1913            19.0         16.421053  \n",
       "692        1967.0       1981.0     1947            15.0         20.000000  "
      ]
     },
     "execution_count": 52,
     "metadata": {},
     "output_type": "execute_result"
    }
   ],
   "source": [
    "df.head(3)"
   ]
  },
  {
   "cell_type": "markdown",
   "metadata": {
    "collapsed": true
   },
   "source": [
    "## Step 3: Insights"
   ]
  },
  {
   "cell_type": "markdown",
   "metadata": {
    "collapsed": false
   },
   "source": [
    "### Who are the 'stockiest' and 'skinniest' players and when did they play?"
   ]
  },
  {
   "cell_type": "code",
   "execution_count": 53,
   "metadata": {
    "collapsed": false
   },
   "outputs": [],
   "source": [
    "# create BMI column\n",
    "\n",
    "df['BMI']=df['Weight(kg)']/((df['Height(cm)']/100)**2)"
   ]
  },
  {
   "cell_type": "markdown",
   "metadata": {},
   "source": [
    "**'stockiest' players**"
   ]
  },
  {
   "cell_type": "code",
   "execution_count": 54,
   "metadata": {
    "collapsed": false
   },
   "outputs": [
    {
     "data": {
      "text/html": [
       "<div>\n",
       "<table border=\"1\" class=\"dataframe\">\n",
       "  <thead>\n",
       "    <tr style=\"text-align: right;\">\n",
       "      <th></th>\n",
       "      <th>Player</th>\n",
       "      <th>First Season</th>\n",
       "      <th>Height(cm)</th>\n",
       "      <th>Weight(kg)</th>\n",
       "      <th>BMI</th>\n",
       "    </tr>\n",
       "    <tr>\n",
       "      <th>Cap</th>\n",
       "      <th></th>\n",
       "      <th></th>\n",
       "      <th></th>\n",
       "      <th></th>\n",
       "      <th></th>\n",
       "    </tr>\n",
       "  </thead>\n",
       "  <tbody>\n",
       "    <tr>\n",
       "      <th>340</th>\n",
       "      <td>Guinane, Danny</td>\n",
       "      <td>1934.0</td>\n",
       "      <td>179.0</td>\n",
       "      <td>100.0</td>\n",
       "      <td>31.210012</td>\n",
       "    </tr>\n",
       "    <tr>\n",
       "      <th>166</th>\n",
       "      <td>Fehring, Charlie</td>\n",
       "      <td>1917.0</td>\n",
       "      <td>188.0</td>\n",
       "      <td>108.0</td>\n",
       "      <td>30.556813</td>\n",
       "    </tr>\n",
       "    <tr>\n",
       "      <th>101</th>\n",
       "      <td>Ellingsen, Percy</td>\n",
       "      <td>1912.0</td>\n",
       "      <td>168.0</td>\n",
       "      <td>86.0</td>\n",
       "      <td>30.470522</td>\n",
       "    </tr>\n",
       "    <tr>\n",
       "      <th>229</th>\n",
       "      <td>Ross, George</td>\n",
       "      <td>1923.0</td>\n",
       "      <td>170.0</td>\n",
       "      <td>86.0</td>\n",
       "      <td>29.757785</td>\n",
       "    </tr>\n",
       "    <tr>\n",
       "      <th>552</th>\n",
       "      <td>Gorwell, John</td>\n",
       "      <td>1955.0</td>\n",
       "      <td>160.0</td>\n",
       "      <td>76.0</td>\n",
       "      <td>29.687500</td>\n",
       "    </tr>\n",
       "  </tbody>\n",
       "</table>\n",
       "</div>"
      ],
      "text/plain": [
       "               Player  First Season  Height(cm)  Weight(kg)        BMI\n",
       "Cap                                                                   \n",
       "340    Guinane, Danny        1934.0       179.0       100.0  31.210012\n",
       "166  Fehring, Charlie        1917.0       188.0       108.0  30.556813\n",
       "101  Ellingsen, Percy        1912.0       168.0        86.0  30.470522\n",
       "229      Ross, George        1923.0       170.0        86.0  29.757785\n",
       "552     Gorwell, John        1955.0       160.0        76.0  29.687500"
      ]
     },
     "execution_count": 54,
     "metadata": {},
     "output_type": "execute_result"
    }
   ],
   "source": [
    "df[['Player','First Season','Height(cm)','Weight(kg)','BMI']].sort_values('BMI',ascending=False).head(5)"
   ]
  },
  {
   "cell_type": "markdown",
   "metadata": {},
   "source": [
    "**'skinniest' players**"
   ]
  },
  {
   "cell_type": "code",
   "execution_count": 55,
   "metadata": {
    "collapsed": false
   },
   "outputs": [
    {
     "data": {
      "text/html": [
       "<div>\n",
       "<table border=\"1\" class=\"dataframe\">\n",
       "  <thead>\n",
       "    <tr style=\"text-align: right;\">\n",
       "      <th></th>\n",
       "      <th>Player</th>\n",
       "      <th>First Season</th>\n",
       "      <th>Height(cm)</th>\n",
       "      <th>Weight(kg)</th>\n",
       "      <th>BMI</th>\n",
       "    </tr>\n",
       "    <tr>\n",
       "      <th>Cap</th>\n",
       "      <th></th>\n",
       "      <th></th>\n",
       "      <th></th>\n",
       "      <th></th>\n",
       "      <th></th>\n",
       "    </tr>\n",
       "  </thead>\n",
       "  <tbody>\n",
       "    <tr>\n",
       "      <th>216</th>\n",
       "      <td>Birtles, Arthur</td>\n",
       "      <td>1922.0</td>\n",
       "      <td>178.0</td>\n",
       "      <td>62.0</td>\n",
       "      <td>19.568236</td>\n",
       "    </tr>\n",
       "    <tr>\n",
       "      <th>1135</th>\n",
       "      <td>Menadue, Connor</td>\n",
       "      <td>2015.0</td>\n",
       "      <td>187.0</td>\n",
       "      <td>69.0</td>\n",
       "      <td>19.731762</td>\n",
       "    </tr>\n",
       "    <tr>\n",
       "      <th>639</th>\n",
       "      <td>Behan, Lance</td>\n",
       "      <td>1962.0</td>\n",
       "      <td>193.0</td>\n",
       "      <td>74.0</td>\n",
       "      <td>19.866305</td>\n",
       "    </tr>\n",
       "    <tr>\n",
       "      <th>1145</th>\n",
       "      <td>Chol, Mabior</td>\n",
       "      <td>2016.0</td>\n",
       "      <td>198.0</td>\n",
       "      <td>78.0</td>\n",
       "      <td>19.895929</td>\n",
       "    </tr>\n",
       "    <tr>\n",
       "      <th>10</th>\n",
       "      <td>Luff, Bill</td>\n",
       "      <td>1908.0</td>\n",
       "      <td>191.0</td>\n",
       "      <td>73.0</td>\n",
       "      <td>20.010416</td>\n",
       "    </tr>\n",
       "  </tbody>\n",
       "</table>\n",
       "</div>"
      ],
      "text/plain": [
       "               Player  First Season  Height(cm)  Weight(kg)        BMI\n",
       "Cap                                                                   \n",
       "216   Birtles, Arthur        1922.0       178.0        62.0  19.568236\n",
       "1135  Menadue, Connor        2015.0       187.0        69.0  19.731762\n",
       "639      Behan, Lance        1962.0       193.0        74.0  19.866305\n",
       "1145     Chol, Mabior        2016.0       198.0        78.0  19.895929\n",
       "10         Luff, Bill        1908.0       191.0        73.0  20.010416"
      ]
     },
     "execution_count": 55,
     "metadata": {},
     "output_type": "execute_result"
    }
   ],
   "source": [
    "df[['Player','First Season','Height(cm)','Weight(kg)','BMI']].sort_values('BMI',ascending=True).head(5)"
   ]
  },
  {
   "cell_type": "markdown",
   "metadata": {},
   "source": [
    "### Are players getting taller and heavier?"
   ]
  },
  {
   "cell_type": "code",
   "execution_count": 56,
   "metadata": {
    "collapsed": false
   },
   "outputs": [
    {
     "data": {
      "text/plain": [
       "<matplotlib.axes._subplots.AxesSubplot at 0x2bcef84cf60>"
      ]
     },
     "execution_count": 56,
     "metadata": {},
     "output_type": "execute_result"
    },
    {
     "data": {
      "image/png": "[encoded data removed]",
      "text/plain": [
       "<matplotlib.figure.Figure at 0x2bcee460eb8>"
      ]
     },
     "metadata": {},
     "output_type": "display_data"
    }
   ],
   "source": [
    "# plot height vs weight coloured by date of birth\n",
    "\n",
    "df.plot.scatter(x='Weight(kg)',y='Height(cm)',c='DOByear',cmap='coolwarm',s=10,title='Height vs Weight by Year')"
   ]
  },
  {
   "cell_type": "markdown",
   "metadata": {},
   "source": [
    "### What is the most worn jersey number?\n"
   ]
  },
  {
   "cell_type": "markdown",
   "metadata": {},
   "source": [
    "**by number of players**"
   ]
  },
  {
   "cell_type": "code",
   "execution_count": 57,
   "metadata": {
    "collapsed": false
   },
   "outputs": [
    {
     "data": {
      "text/plain": [
       "28.0    37\n",
       "26.0    36\n",
       "27.0    34\n",
       "6.0     33\n",
       "23.0    32\n",
       "Name: Jersey No., dtype: int64"
      ]
     },
     "execution_count": 57,
     "metadata": {},
     "output_type": "execute_result"
    }
   ],
   "source": [
    "df['Jersey No.'].value_counts().head(5)"
   ]
  },
  {
   "cell_type": "markdown",
   "metadata": {
    "collapsed": false
   },
   "source": [
    "**by games played**"
   ]
  },
  {
   "cell_type": "code",
   "execution_count": 58,
   "metadata": {
    "collapsed": false
   },
   "outputs": [
    {
     "data": {
      "text/html": [
       "<div>\n",
       "<table border=\"1\" class=\"dataframe\">\n",
       "  <thead>\n",
       "    <tr style=\"text-align: right;\">\n",
       "      <th></th>\n",
       "      <th>Games(total)</th>\n",
       "    </tr>\n",
       "    <tr>\n",
       "      <th>Jersey No.</th>\n",
       "      <th></th>\n",
       "    </tr>\n",
       "  </thead>\n",
       "  <tbody>\n",
       "    <tr>\n",
       "      <th>4.0</th>\n",
       "      <td>1641</td>\n",
       "    </tr>\n",
       "    <tr>\n",
       "      <th>1.0</th>\n",
       "      <td>1636</td>\n",
       "    </tr>\n",
       "    <tr>\n",
       "      <th>3.0</th>\n",
       "      <td>1561</td>\n",
       "    </tr>\n",
       "    <tr>\n",
       "      <th>2.0</th>\n",
       "      <td>1544</td>\n",
       "    </tr>\n",
       "    <tr>\n",
       "      <th>9.0</th>\n",
       "      <td>1522</td>\n",
       "    </tr>\n",
       "  </tbody>\n",
       "</table>\n",
       "</div>"
      ],
      "text/plain": [
       "            Games(total)\n",
       "Jersey No.              \n",
       "4.0                 1641\n",
       "1.0                 1636\n",
       "3.0                 1561\n",
       "2.0                 1544\n",
       "9.0                 1522"
      ]
     },
     "execution_count": 58,
     "metadata": {},
     "output_type": "execute_result"
    }
   ],
   "source": [
    "df.groupby('Jersey No.').sum()[['Games(total)']].sort_values('Games(total)',ascending=False).head(5)"
   ]
  },
  {
   "cell_type": "markdown",
   "metadata": {},
   "source": [
    "### Players with most ave games per season?"
   ]
  },
  {
   "cell_type": "code",
   "execution_count": 59,
   "metadata": {
    "collapsed": false
   },
   "outputs": [
    {
     "data": {
      "text/html": [
       "<div>\n",
       "<table border=\"1\" class=\"dataframe\">\n",
       "  <thead>\n",
       "    <tr style=\"text-align: right;\">\n",
       "      <th></th>\n",
       "      <th>Player</th>\n",
       "      <th>Games(total)</th>\n",
       "      <th>Ave Games/Season</th>\n",
       "    </tr>\n",
       "    <tr>\n",
       "      <th>Cap</th>\n",
       "      <th></th>\n",
       "      <th></th>\n",
       "      <th></th>\n",
       "    </tr>\n",
       "  </thead>\n",
       "  <tbody>\n",
       "    <tr>\n",
       "      <th>865</th>\n",
       "      <td>McKenna, Michael</td>\n",
       "      <td>22</td>\n",
       "      <td>22.000000</td>\n",
       "    </tr>\n",
       "    <tr>\n",
       "      <th>854</th>\n",
       "      <td>Annear, John</td>\n",
       "      <td>65</td>\n",
       "      <td>21.666667</td>\n",
       "    </tr>\n",
       "    <tr>\n",
       "      <th>742</th>\n",
       "      <td>Sproule, Paul</td>\n",
       "      <td>86</td>\n",
       "      <td>21.500000</td>\n",
       "    </tr>\n",
       "    <tr>\n",
       "      <th>677</th>\n",
       "      <td>Bartlett, Kevin</td>\n",
       "      <td>403</td>\n",
       "      <td>21.210526</td>\n",
       "    </tr>\n",
       "    <tr>\n",
       "      <th>966</th>\n",
       "      <td>Broderick, Paul</td>\n",
       "      <td>169</td>\n",
       "      <td>21.125000</td>\n",
       "    </tr>\n",
       "  </tbody>\n",
       "</table>\n",
       "</div>"
      ],
      "text/plain": [
       "               Player  Games(total)  Ave Games/Season\n",
       "Cap                                                  \n",
       "865  McKenna, Michael            22         22.000000\n",
       "854      Annear, John            65         21.666667\n",
       "742     Sproule, Paul            86         21.500000\n",
       "677   Bartlett, Kevin           403         21.210526\n",
       "966   Broderick, Paul           169         21.125000"
      ]
     },
     "execution_count": 59,
     "metadata": {},
     "output_type": "execute_result"
    }
   ],
   "source": [
    "df[['Player','Games(total)','Ave Games/Season']].sort_values('Ave Games/Season',ascending=False).head(5)"
   ]
  },
  {
   "cell_type": "markdown",
   "metadata": {},
   "source": [
    "### Most ave goals per game?"
   ]
  },
  {
   "cell_type": "code",
   "execution_count": 60,
   "metadata": {
    "collapsed": false
   },
   "outputs": [
    {
     "data": {
      "text/html": [
       "<div>\n",
       "<table border=\"1\" class=\"dataframe\">\n",
       "  <thead>\n",
       "    <tr style=\"text-align: right;\">\n",
       "      <th></th>\n",
       "      <th>Player</th>\n",
       "      <th>Games(total)</th>\n",
       "      <th>Ave Goals per Game</th>\n",
       "    </tr>\n",
       "    <tr>\n",
       "      <th>Cap</th>\n",
       "      <th></th>\n",
       "      <th></th>\n",
       "      <th></th>\n",
       "    </tr>\n",
       "  </thead>\n",
       "  <tbody>\n",
       "    <tr>\n",
       "      <th>219</th>\n",
       "      <td>Lynch, Dave</td>\n",
       "      <td>20</td>\n",
       "      <td>3.850000</td>\n",
       "    </tr>\n",
       "    <tr>\n",
       "      <th>445</th>\n",
       "      <td>Murray, Sel</td>\n",
       "      <td>13</td>\n",
       "      <td>3.846154</td>\n",
       "    </tr>\n",
       "    <tr>\n",
       "      <th>824</th>\n",
       "      <td>Taylor, Brian</td>\n",
       "      <td>43</td>\n",
       "      <td>3.627907</td>\n",
       "    </tr>\n",
       "    <tr>\n",
       "      <th>729</th>\n",
       "      <td>Greenslade, Malcolm</td>\n",
       "      <td>2</td>\n",
       "      <td>3.500000</td>\n",
       "    </tr>\n",
       "    <tr>\n",
       "      <th>286</th>\n",
       "      <td>Titus, Jack</td>\n",
       "      <td>294</td>\n",
       "      <td>3.299320</td>\n",
       "    </tr>\n",
       "  </tbody>\n",
       "</table>\n",
       "</div>"
      ],
      "text/plain": [
       "                  Player  Games(total)  Ave Goals per Game\n",
       "Cap                                                       \n",
       "219          Lynch, Dave            20            3.850000\n",
       "445          Murray, Sel            13            3.846154\n",
       "824        Taylor, Brian            43            3.627907\n",
       "729  Greenslade, Malcolm             2            3.500000\n",
       "286          Titus, Jack           294            3.299320"
      ]
     },
     "execution_count": 60,
     "metadata": {},
     "output_type": "execute_result"
    }
   ],
   "source": [
    "df['Ave Goals per Game']=df['Goals']/df['Games(total)']\n",
    "df[['Player','Games(total)','Ave Goals per Game']].sort_values('Ave Goals per Game',ascending=False).head(5)"
   ]
  },
  {
   "cell_type": "markdown",
   "metadata": {},
   "source": [
    "### How many games do players play?"
   ]
  },
  {
   "cell_type": "code",
   "execution_count": 61,
   "metadata": {
    "collapsed": false
   },
   "outputs": [
    {
     "data": {
      "text/plain": [
       "<matplotlib.axes._subplots.AxesSubplot at 0x2bcef833198>"
      ]
     },
     "execution_count": 61,
     "metadata": {},
     "output_type": "execute_result"
    },
    {
     "data": {
      "image/png": "[encoded data removed]",
      "text/plain": [
       "<matplotlib.figure.Figure at 0x2bcefa94b00>"
      ]
     },
     "metadata": {},
     "output_type": "display_data"
    }
   ],
   "source": [
    "df['Games(total)'].plot.hist(alpha=0.8,bins=30)"
   ]
  },
  {
   "cell_type": "markdown",
   "metadata": {},
   "source": [
    "**Proportion of players that play various amounts of games**"
   ]
  },
  {
   "cell_type": "code",
   "execution_count": 62,
   "metadata": {
    "collapsed": false,
    "scrolled": true
   },
   "outputs": [
    {
     "data": {
      "text/html": [
       "<div>\n",
       "<table border=\"1\" class=\"dataframe\">\n",
       "  <thead>\n",
       "    <tr style=\"text-align: right;\">\n",
       "      <th></th>\n",
       "      <th>Player</th>\n",
       "    </tr>\n",
       "    <tr>\n",
       "      <th>Games(total)</th>\n",
       "      <th></th>\n",
       "    </tr>\n",
       "  </thead>\n",
       "  <tbody>\n",
       "    <tr>\n",
       "      <th>1</th>\n",
       "      <td>96</td>\n",
       "    </tr>\n",
       "    <tr>\n",
       "      <th>2</th>\n",
       "      <td>96</td>\n",
       "    </tr>\n",
       "    <tr>\n",
       "      <th>3</th>\n",
       "      <td>62</td>\n",
       "    </tr>\n",
       "    <tr>\n",
       "      <th>4</th>\n",
       "      <td>58</td>\n",
       "    </tr>\n",
       "    <tr>\n",
       "      <th>5</th>\n",
       "      <td>43</td>\n",
       "    </tr>\n",
       "    <tr>\n",
       "      <th>6</th>\n",
       "      <td>42</td>\n",
       "    </tr>\n",
       "    <tr>\n",
       "      <th>7</th>\n",
       "      <td>36</td>\n",
       "    </tr>\n",
       "    <tr>\n",
       "      <th>8</th>\n",
       "      <td>26</td>\n",
       "    </tr>\n",
       "    <tr>\n",
       "      <th>9</th>\n",
       "      <td>21</td>\n",
       "    </tr>\n",
       "    <tr>\n",
       "      <th>10</th>\n",
       "      <td>26</td>\n",
       "    </tr>\n",
       "    <tr>\n",
       "      <th>11</th>\n",
       "      <td>15</td>\n",
       "    </tr>\n",
       "    <tr>\n",
       "      <th>12</th>\n",
       "      <td>19</td>\n",
       "    </tr>\n",
       "    <tr>\n",
       "      <th>13</th>\n",
       "      <td>20</td>\n",
       "    </tr>\n",
       "    <tr>\n",
       "      <th>14</th>\n",
       "      <td>19</td>\n",
       "    </tr>\n",
       "    <tr>\n",
       "      <th>15</th>\n",
       "      <td>15</td>\n",
       "    </tr>\n",
       "    <tr>\n",
       "      <th>16</th>\n",
       "      <td>17</td>\n",
       "    </tr>\n",
       "    <tr>\n",
       "      <th>17</th>\n",
       "      <td>10</td>\n",
       "    </tr>\n",
       "    <tr>\n",
       "      <th>18</th>\n",
       "      <td>14</td>\n",
       "    </tr>\n",
       "    <tr>\n",
       "      <th>19</th>\n",
       "      <td>16</td>\n",
       "    </tr>\n",
       "    <tr>\n",
       "      <th>20</th>\n",
       "      <td>14</td>\n",
       "    </tr>\n",
       "    <tr>\n",
       "      <th>21</th>\n",
       "      <td>14</td>\n",
       "    </tr>\n",
       "    <tr>\n",
       "      <th>22</th>\n",
       "      <td>5</td>\n",
       "    </tr>\n",
       "    <tr>\n",
       "      <th>23</th>\n",
       "      <td>9</td>\n",
       "    </tr>\n",
       "    <tr>\n",
       "      <th>24</th>\n",
       "      <td>8</td>\n",
       "    </tr>\n",
       "    <tr>\n",
       "      <th>25</th>\n",
       "      <td>6</td>\n",
       "    </tr>\n",
       "    <tr>\n",
       "      <th>26</th>\n",
       "      <td>14</td>\n",
       "    </tr>\n",
       "    <tr>\n",
       "      <th>27</th>\n",
       "      <td>6</td>\n",
       "    </tr>\n",
       "    <tr>\n",
       "      <th>28</th>\n",
       "      <td>10</td>\n",
       "    </tr>\n",
       "    <tr>\n",
       "      <th>29</th>\n",
       "      <td>3</td>\n",
       "    </tr>\n",
       "    <tr>\n",
       "      <th>30</th>\n",
       "      <td>10</td>\n",
       "    </tr>\n",
       "    <tr>\n",
       "      <th>...</th>\n",
       "      <td>...</td>\n",
       "    </tr>\n",
       "    <tr>\n",
       "      <th>189</th>\n",
       "      <td>1</td>\n",
       "    </tr>\n",
       "    <tr>\n",
       "      <th>192</th>\n",
       "      <td>1</td>\n",
       "    </tr>\n",
       "    <tr>\n",
       "      <th>195</th>\n",
       "      <td>1</td>\n",
       "    </tr>\n",
       "    <tr>\n",
       "      <th>196</th>\n",
       "      <td>1</td>\n",
       "    </tr>\n",
       "    <tr>\n",
       "      <th>197</th>\n",
       "      <td>1</td>\n",
       "    </tr>\n",
       "    <tr>\n",
       "      <th>199</th>\n",
       "      <td>1</td>\n",
       "    </tr>\n",
       "    <tr>\n",
       "      <th>200</th>\n",
       "      <td>1</td>\n",
       "    </tr>\n",
       "    <tr>\n",
       "      <th>205</th>\n",
       "      <td>1</td>\n",
       "    </tr>\n",
       "    <tr>\n",
       "      <th>207</th>\n",
       "      <td>1</td>\n",
       "    </tr>\n",
       "    <tr>\n",
       "      <th>209</th>\n",
       "      <td>2</td>\n",
       "    </tr>\n",
       "    <tr>\n",
       "      <th>213</th>\n",
       "      <td>1</td>\n",
       "    </tr>\n",
       "    <tr>\n",
       "      <th>219</th>\n",
       "      <td>1</td>\n",
       "    </tr>\n",
       "    <tr>\n",
       "      <th>223</th>\n",
       "      <td>1</td>\n",
       "    </tr>\n",
       "    <tr>\n",
       "      <th>233</th>\n",
       "      <td>1</td>\n",
       "    </tr>\n",
       "    <tr>\n",
       "      <th>238</th>\n",
       "      <td>1</td>\n",
       "    </tr>\n",
       "    <tr>\n",
       "      <th>243</th>\n",
       "      <td>1</td>\n",
       "    </tr>\n",
       "    <tr>\n",
       "      <th>244</th>\n",
       "      <td>1</td>\n",
       "    </tr>\n",
       "    <tr>\n",
       "      <th>245</th>\n",
       "      <td>1</td>\n",
       "    </tr>\n",
       "    <tr>\n",
       "      <th>251</th>\n",
       "      <td>1</td>\n",
       "    </tr>\n",
       "    <tr>\n",
       "      <th>263</th>\n",
       "      <td>2</td>\n",
       "    </tr>\n",
       "    <tr>\n",
       "      <th>265</th>\n",
       "      <td>1</td>\n",
       "    </tr>\n",
       "    <tr>\n",
       "      <th>268</th>\n",
       "      <td>1</td>\n",
       "    </tr>\n",
       "    <tr>\n",
       "      <th>274</th>\n",
       "      <td>1</td>\n",
       "    </tr>\n",
       "    <tr>\n",
       "      <th>279</th>\n",
       "      <td>1</td>\n",
       "    </tr>\n",
       "    <tr>\n",
       "      <th>282</th>\n",
       "      <td>1</td>\n",
       "    </tr>\n",
       "    <tr>\n",
       "      <th>294</th>\n",
       "      <td>1</td>\n",
       "    </tr>\n",
       "    <tr>\n",
       "      <th>297</th>\n",
       "      <td>1</td>\n",
       "    </tr>\n",
       "    <tr>\n",
       "      <th>300</th>\n",
       "      <td>1</td>\n",
       "    </tr>\n",
       "    <tr>\n",
       "      <th>312</th>\n",
       "      <td>1</td>\n",
       "    </tr>\n",
       "    <tr>\n",
       "      <th>403</th>\n",
       "      <td>1</td>\n",
       "    </tr>\n",
       "  </tbody>\n",
       "</table>\n",
       "<p>185 rows × 1 columns</p>\n",
       "</div>"
      ],
      "text/plain": [
       "              Player\n",
       "Games(total)        \n",
       "1                 96\n",
       "2                 96\n",
       "3                 62\n",
       "4                 58\n",
       "5                 43\n",
       "6                 42\n",
       "7                 36\n",
       "8                 26\n",
       "9                 21\n",
       "10                26\n",
       "11                15\n",
       "12                19\n",
       "13                20\n",
       "14                19\n",
       "15                15\n",
       "16                17\n",
       "17                10\n",
       "18                14\n",
       "19                16\n",
       "20                14\n",
       "21                14\n",
       "22                 5\n",
       "23                 9\n",
       "24                 8\n",
       "25                 6\n",
       "26                14\n",
       "27                 6\n",
       "28                10\n",
       "29                 3\n",
       "30                10\n",
       "...              ...\n",
       "189                1\n",
       "192                1\n",
       "195                1\n",
       "196                1\n",
       "197                1\n",
       "199                1\n",
       "200                1\n",
       "205                1\n",
       "207                1\n",
       "209                2\n",
       "213                1\n",
       "219                1\n",
       "223                1\n",
       "233                1\n",
       "238                1\n",
       "243                1\n",
       "244                1\n",
       "245                1\n",
       "251                1\n",
       "263                2\n",
       "265                1\n",
       "268                1\n",
       "274                1\n",
       "279                1\n",
       "282                1\n",
       "294                1\n",
       "297                1\n",
       "300                1\n",
       "312                1\n",
       "403                1\n",
       "\n",
       "[185 rows x 1 columns]"
      ]
     },
     "execution_count": 62,
     "metadata": {},
     "output_type": "execute_result"
    }
   ],
   "source": [
    "df[['Player','Games(total)']].groupby('Games(total)').count()"
   ]
  },
  {
   "cell_type": "code",
   "execution_count": null,
   "metadata": {
    "collapsed": false
   },
   "outputs": [],
   "source": []
  },
  {
   "cell_type": "code",
   "execution_count": null,
   "metadata": {
    "collapsed": false
   },
   "outputs": [],
   "source": []
  },
  {
   "cell_type": "code",
   "execution_count": null,
   "metadata": {
    "collapsed": false
   },
   "outputs": [],
   "source": []
  },
  {
   "cell_type": "code",
   "execution_count": null,
   "metadata": {
    "collapsed": true
   },
   "outputs": [],
   "source": []
  },
  {
   "cell_type": "code",
   "execution_count": null,
   "metadata": {
    "collapsed": true
   },
   "outputs": [],
   "source": []
  },
  {
   "cell_type": "markdown",
   "metadata": {
    "collapsed": true
   },
   "source": [
    "## Further ideas"
   ]
  },
  {
   "cell_type": "code",
   "execution_count": 63,
   "metadata": {
    "collapsed": false
   },
   "outputs": [],
   "source": [
    "# combine all teams data into one table, will need to add another column 'team'\n",
    "# set up webscraping to scrape this date from page, so that it is live\n",
    "\n",
    "# of the active players (season to == current year)), which are; oldest, youngest, best win/loss ratios, most games, most goals, heaviest, lightest, tallest, shortest\n",
    "# youngest player\n",
    "# oldest player\n",
    "# average age for each season, are players getting younger or older?\n",
    "# debuts per season\n",
    "# retirements per season\n",
    "# seasons when the most games retired\n",
    "# of the players that debut in (current year), who has played the most games, kicked the most goals?\n",
    "# average age each year\n",
    "# active players per season\n",
    "# best win/loss ratios\n",
    "# worst win/loss ratios\n",
    "# what % of players make it past 10,50,100 games? create bins\n",
    "# which seasons appear to be the most successful? based on active players and their win/loss ratios\n",
    "# estimate goals/game for each season\n",
    "# are players playing for longer than they used to? \n",
    "# error checking and rectifying. isnull()\n",
    "# convert floats to ints\n",
    "# change debut age and last game age to float"
   ]
  }
 ],
 "metadata": {
  "kernelspec": {
   "display_name": "Python 3",
   "language": "python",
   "name": "python3"
  },
  "language_info": {
   "codemirror_mode": {
    "name": "ipython",
    "version": 3
   },
   "file_extension": ".py",
   "mimetype": "text/x-python",
   "name": "python",
   "nbconvert_exporter": "python",
   "pygments_lexer": "ipython3",
   "version": "3.6.0"
  }
 },
 "nbformat": 4,
 "nbformat_minor": 2
}
